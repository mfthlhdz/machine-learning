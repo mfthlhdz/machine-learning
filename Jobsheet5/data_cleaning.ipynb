{
 "cells": [
  {
   "cell_type": "code",
   "execution_count": null,
   "metadata": {},
   "outputs": [
    {
     "name": "stdout",
     "output_type": "stream",
     "text": [
      "Data Awal:\n",
      "      Name   Age         City\n",
      "0    Alice  25.0     New York\n",
      "1      Bob  30.0  Los Angeles\n",
      "2  Charlie  35.0      Chicago\n",
      "3    Alice  25.0     New York\n",
      "4      Eve   NaN        Miami\n",
      "5      NaN  50.0  Los Angeles\n",
      "\n",
      "Data Setelah Cleaning:\n",
      "      Name   Age         City\n",
      "0    Alice  25.0     New York\n",
      "1      Bob  30.0  Los Angeles\n",
      "2  Charlie  35.0      Chicago\n",
      "4      Eve  32.5        Miami\n"
     ]
    }
   ],
   "source": [
    "# 1. Contoh data cleaning\n",
    "# A. Missing values\n",
    "import pandas as pd\n",
    "import numpy as np\n",
    "\n",
    "# Membuat dataframe contoh\n",
    "data = {\n",
    "    'Name': ['Alice', 'Bob', 'Charlie', 'Alice', 'Eve', np.nan],\n",
    "    'Age': [25, 30, 35, 25, np.nan, 50],\n",
    "    'City': ['New York', 'Los Angeles', 'Chicago', 'New York', 'Miami', 'Los Angeles']\n",
    "}\n",
    "\n",
    "df = pd.DataFrame(data)\n",
    "\n",
    "# Menampilkan data awal\n",
    "print(\"Data Awal:\")\n",
    "print(df)\n",
    "\n",
    "# Menghapus duplikat\n",
    "df = df.drop_duplicates()\n",
    "\n",
    "# Menangani missing values dengan mengisi nilai median untuk kolom numerik\n",
    "df['Age'] = df['Age'].fillna(df['Age'].median())\n",
    "\n",
    "# Menghapus baris yang mengandung missing values di kolom 'Name'\n",
    "df = df.dropna(subset=['Name'])\n",
    "\n",
    "# Menampilkan data setelah cleaning\n",
    "print(\"\\nData Setelah Cleaning:\")\n",
    "print(df)"
   ]
  },
  {
   "cell_type": "code",
   "execution_count": null,
   "metadata": {},
   "outputs": [
    {
     "name": "stdout",
     "output_type": "stream",
     "text": [
      "Data Awal:\n",
      "      Name  Age         City\n",
      "0    Alice   25     New York\n",
      "1      Bob   30  Los Angeles\n",
      "2  Charlie   35      Chicago\n",
      "3    Alice   25     New York\n",
      "4      Eve   32        Miami\n",
      "5      Eve   32        Miami\n",
      "\n",
      "Jumlah data yang terduplikat: 2\n",
      "\n",
      "Data Setelah Cleaning:\n",
      "      Name  Age         City\n",
      "0    Alice   25     New York\n",
      "1      Bob   30  Los Angeles\n",
      "2  Charlie   35      Chicago\n",
      "4      Eve   32        Miami\n",
      "\n",
      "Jumlah data yang terduplikat: 0\n"
     ]
    }
   ],
   "source": [
    "# 1. Contoh data cleaning\n",
    "# B. Meghapus Duplikat\n",
    "import pandas as pd\n",
    "import numpy as np\n",
    "\n",
    "# Membuat dataframe contoh\n",
    "data = {\n",
    "    'Name': ['Alice', 'Bob', 'Charlie', 'Alice', 'Eve', 'Eve'],\n",
    "    'Age': [25, 30, 35, 25, 32, 32],\n",
    "    'City': ['New York', 'Los Angeles', 'Chicago', 'New York', 'Miami', 'Miami']\n",
    "}\n",
    "\n",
    "df = pd.DataFrame(data)\n",
    "\n",
    "# Menampilkan data awal\n",
    "print(\"Data Awal:\")\n",
    "print(df)\n",
    "\n",
    "# Identifikasi duplikat\n",
    "duplicate_count = (df.duplicated().sum())\n",
    "print(f\"\\nJumlah data yang terduplikat: {duplicate_count}\")\n",
    "# Menghapus duplikat\n",
    "df.drop_duplicates(inplace=True)\n",
    "\n",
    "# Menampilkan data setelah cleaning\n",
    "print(\"\\nData Setelah Cleaning:\")\n",
    "print(df)\n",
    "duplicate_count = (df.duplicated().sum())\n",
    "print(f\"\\nJumlah data yang terduplikat: {duplicate_count}\")"
   ]
  },
  {
   "cell_type": "code",
   "execution_count": null,
   "metadata": {},
   "outputs": [
    {
     "name": "stdout",
     "output_type": "stream",
     "text": [
      "Outliers:\n",
      "    Name  Age         City\n",
      "5  Arif  500  Los Angeles\n"
     ]
    }
   ],
   "source": [
    "# 1. Contoh data cleansing\n",
    "# C. Menangani Outliers\n",
    "\n",
    "# Langkah 1: Membuat DataFrame\n",
    "import pandas as pd\n",
    "import numpy as np\n",
    "data = {\n",
    "'Name': ['Alice', 'Bob', 'Charlie', 'Alice', 'Eve', 'Arif'],\n",
    "'Age': [25, 30, 35, 25, 32, 500],\n",
    "'City': ['New York', 'Los Angeles', 'Chicago', 'New York', 'Miami', 'Los Angeles']\n",
    "}\n",
    "df = pd.DataFrame(data)\n",
    "# Langkah 2: Identifikasi Outliers\n",
    "# Outliers dapat diidentifikasi menggunakan berbagai metode, salah satu yang umum adalah menggunakan Z-score atau IQR (Interquartile Range).\n",
    "# Di sini, kita akan menggunakan IQR untuk mendeteksi outliers.\n",
    "# Menghitung IQR\n",
    "Q1 = df['Age'].quantile(0.25)\n",
    "Q3 = df['Age'].quantile(0.75)\n",
    "IQR = Q3 - Q1\n",
    "# Menentukan batas bawah dan atas untuk outliers\n",
    "lower_bound = Q1 - 1.5 * IQR\n",
    "upper_bound = Q3 + 1.5 * IQR\n",
    "# Menandai outliers\n",
    "outliers = df[(df['Age'] < lower_bound) | (df['Age'] > upper_bound)]\n",
    "print(\"Outliers:\\n\", outliers)\n",
    "# Langkah 3: Menangani Outliers\n",
    "# # Menghapus outliers\n",
    "df_no_outliers = df[(df['Age'] >= lower_bound) & (df['Age'] <= upper_bound)]\n",
    "# Mengganti outliers dengan nilai median\n",
    "median_age = df['Age'].median()\n",
    "df['Age'] = np.where((df['Age'] < lower_bound) | (df['Age'] > upper_bound),\n",
    "median_age, df['Age'])\n",
    "# Mengisi missing values dengan median\n",
    "df['Age'].fillna(df['Age'].median(), inplace=True)\n",
    "df['Name'].fillna('Unknown', inplace=True)"
   ]
  },
  {
   "cell_type": "code",
   "execution_count": null,
   "metadata": {},
   "outputs": [
    {
     "name": "stdout",
     "output_type": "stream",
     "text": [
      "   City_Chicago  City_Los Angeles  City_Miami  City_New York\n",
      "0         False             False       False           True\n",
      "1         False              True       False          False\n",
      "2          True             False       False          False\n",
      "3         False             False       False           True\n",
      "4         False             False        True          False\n"
     ]
    }
   ],
   "source": [
    "# 1. Contoh data Cleansing\n",
    "# D. Mengubah data Kategorikal ke Numerik\n",
    "# Contoh: misalnya, kita memiliki dataset dengan kolom \"City\" yang berisi data kategorikal:\n",
    "import pandas as pd\n",
    "data = {'City': ['New York', 'Los Angeles', 'Chicago', 'New York', 'Miami']}\n",
    "df = pd.DataFrame(data)\n",
    "# One-Hot Encoding\n",
    "df_one_hot = pd.get_dummies(df, columns=['City'])\n",
    "print(df_one_hot)"
   ]
  },
  {
   "cell_type": "code",
   "execution_count": null,
   "metadata": {},
   "outputs": [
    {
     "name": "stdout",
     "output_type": "stream",
     "text": [
      "Data Awal:\n",
      "      Name    Age         City\n",
      "0    Alice   25.0     New York\n",
      "1      Bob   30.0  Los Angeles\n",
      "2  Charlie   35.0      Chicago\n",
      "3    Alice   25.0     New York\n",
      "4      Eve    NaN        Miami\n",
      "5      NaN  150.0  Los Angeles\n",
      "\n",
      "Data Setelah Menangani Nilai Tidak Valid:\n",
      "      Name    Age         City\n",
      "0    Alice   25.0     New York\n",
      "1      Bob   30.0  Los Angeles\n",
      "2  Charlie   35.0      Chicago\n",
      "3    Alice   25.0     New York\n",
      "4      Eve   30.0        Miami\n",
      "5  Unknown  150.0  Los Angeles\n"
     ]
    }
   ],
   "source": [
    "# 1. Contoh data Cleansing\n",
    "# E. Menangani Data tidak Valid\n",
    "\n",
    "import pandas as pd\n",
    "import numpy as np\n",
    "data = {\n",
    "'Name': ['Alice', 'Bob', 'Charlie', 'Alice', 'Eve', np.nan],\n",
    "'Age': [25, 30, 35, 25, np.nan, 150], # 150 dianggap sebagai nilai tidak valid\n",
    "'City': ['New York', 'Los Angeles', 'Chicago', 'New York', 'Miami', 'Los Angeles']\n",
    "}\n",
    "df = pd.DataFrame(data)\n",
    "# Identifikasi nilai tidak valid\n",
    "\n",
    "print(\"Data Awal:\")\n",
    "print(df)\n",
    "# Mengubah nilai 'Age' yang tidak valid menjadi NaN\n",
    "df['Age'] = pd.to_numeric(df['Age'], errors='coerce')\n",
    "# Mengisi nilai 'Age' yang hilang atau tidak valid dengan median\n",
    "df['Age'] = df['Age'].fillna(df['Age'].median())\n",
    "# Mengisi nilai 'Name' yang hilang dengan 'Unknown'\n",
    "df['Name'] = df['Name'].fillna('Unknown')\n",
    "print(\"\\nData Setelah Menangani Nilai Tidak Valid:\")\n",
    "print(df)\n"
   ]
  },
  {
   "cell_type": "code",
   "execution_count": 16,
   "metadata": {},
   "outputs": [
    {
     "name": "stdout",
     "output_type": "stream",
     "text": [
      "Data Asli:\n",
      "   Age  Salary\n",
      "0   25   50000\n",
      "1   30   60000\n",
      "2   35   70000\n",
      "3   40   80000\n",
      "4   45   90000\n",
      "\n",
      "Min-Max Scaled Data:\n",
      "    Age  Salary\n",
      "0  0.00    0.00\n",
      "1  0.25    0.25\n",
      "2  0.50    0.50\n",
      "3  0.75    0.75\n",
      "4  1.00    1.00\n",
      "\n",
      "Standardized Data:\n",
      "(array([[-1.41421356, -1.41421356],\n",
      "       [-0.70710678, -0.70710678],\n",
      "       [ 0.        ,  0.        ],\n",
      "       [ 0.70710678,  0.70710678],\n",
      "       [ 1.41421356,  1.41421356]]),)\n"
     ]
    }
   ],
   "source": [
    "# 2. Data Normalization\n",
    "import pandas as pd\n",
    "from sklearn.preprocessing import MinMaxScaler, StandardScaler\n",
    "\n",
    "# Contoh dataset\n",
    "data = {\n",
    "'Age': [25, 30, 35, 40, 45],\n",
    "'Salary': [50000, 60000, 70000, 80000, 90000]\n",
    "}\n",
    "df = pd.DataFrame(data)\n",
    "\n",
    "# Min-Max Scaling\n",
    "min_max_scaler = MinMaxScaler()\n",
    "df_min_max_scaled = pd.DataFrame(min_max_scaler.fit_transform(df),\n",
    "columns=df.columns)\n",
    "\n",
    "# Z-Score Normalization\n",
    "standard_scaler = StandardScaler()\n",
    "df_standard_scaled = pd.DataFrame= standard_scaler.fit_transform(df),\n",
    "print(\"Data Asli:\")\n",
    "print(df)\n",
    "print(\"\\nMin-Max Scaled Data:\")\n",
    "print(df_min_max_scaled)\n",
    "print(\"\\nStandardized Data:\")\n",
    "print(df_standard_scaled)"
   ]
  },
  {
   "cell_type": "code",
   "execution_count": 17,
   "metadata": {},
   "outputs": [
    {
     "name": "stdout",
     "output_type": "stream",
     "text": [
      "K-Fold Cross-Validation Scores: [nan nan nan nan nan]\n",
      "Mean Score: nan\n"
     ]
    },
    {
     "name": "stderr",
     "output_type": "stream",
     "text": [
      "c:\\Users\\GF63-1039\\anaconda3\\Lib\\site-packages\\sklearn\\metrics\\_regression.py:996: UndefinedMetricWarning: R^2 score is not well-defined with less than two samples.\n",
      "  warnings.warn(msg, UndefinedMetricWarning)\n",
      "c:\\Users\\GF63-1039\\anaconda3\\Lib\\site-packages\\sklearn\\metrics\\_regression.py:996: UndefinedMetricWarning: R^2 score is not well-defined with less than two samples.\n",
      "  warnings.warn(msg, UndefinedMetricWarning)\n",
      "c:\\Users\\GF63-1039\\anaconda3\\Lib\\site-packages\\sklearn\\metrics\\_regression.py:996: UndefinedMetricWarning: R^2 score is not well-defined with less than two samples.\n",
      "  warnings.warn(msg, UndefinedMetricWarning)\n",
      "c:\\Users\\GF63-1039\\anaconda3\\Lib\\site-packages\\sklearn\\metrics\\_regression.py:996: UndefinedMetricWarning: R^2 score is not well-defined with less than two samples.\n",
      "  warnings.warn(msg, UndefinedMetricWarning)\n",
      "c:\\Users\\GF63-1039\\anaconda3\\Lib\\site-packages\\sklearn\\metrics\\_regression.py:996: UndefinedMetricWarning: R^2 score is not well-defined with less than two samples.\n",
      "  warnings.warn(msg, UndefinedMetricWarning)\n"
     ]
    }
   ],
   "source": [
    "#3. Validasi Model\n",
    "from sklearn.model_selection import KFold, cross_val_score\n",
    "from sklearn.linear_model import LinearRegression\n",
    "import numpy as np\n",
    "# Contoh dataset\n",
    "X = np.array([[1, 2], [2, 3], [3, 4], [4, 5], [5, 6]])\n",
    "y = np.array([2, 3, 4, 5, 6])\n",
    "# Model\n",
    "model = LinearRegression()\n",
    "# K-Fold Cross-Validation\n",
    "kf = KFold(n_splits=5)\n",
    "\n",
    "scores = cross_val_score(model, X, y, cv=kf)\n",
    "print(\"K-Fold Cross-Validation Scores:\", scores)\n",
    "print(\"Mean Score:\", np.mean(scores))"
   ]
  },
  {
   "cell_type": "code",
   "execution_count": null,
   "metadata": {},
   "outputs": [
    {
     "name": "stdout",
     "output_type": "stream",
     "text": [
      "K-Fold Cross-Validation Scores: [1.         1.         0.93333333 0.96666667 0.96666667]\n",
      "Mean Score: 0.9733333333333334\n"
     ]
    }
   ],
   "source": [
    "# 4. K-Fold Cross-Validation\n",
    "# Implementasi K-Fold Cross-Validation di Python\n",
    "from sklearn.model_selection import KFold, cross_val_score\n",
    "from sklearn.linear_model import LogisticRegression\n",
    "from sklearn.datasets import load_iris\n",
    "# Load dataset\n",
    "iris = load_iris()\n",
    "X = iris.data\n",
    "y = iris.target\n",
    "# Model\n",
    "model = LogisticRegression(max_iter=1000)\n",
    "# K-Fold Cross-Validation\n",
    "kf = KFold(n_splits=5, shuffle=True, random_state=42) # Misalnya, menggunakan 5 folds dengan shuffle dan seed random 42\n",
    "scores = cross_val_score(model, X, y, cv=kf, scoring='accuracy')\n",
    "print(\"K-Fold Cross-Validation Scores:\", scores)\n",
    "print(\"Mean Score:\", scores.mean())"
   ]
  },
  {
   "cell_type": "code",
   "execution_count": 19,
   "metadata": {},
   "outputs": [
    {
     "name": "stdout",
     "output_type": "stream",
     "text": [
      "Confusion Matrix:\n",
      "[[10  0  0]\n",
      " [ 0  9  0]\n",
      " [ 0  0 11]]\n"
     ]
    },
    {
     "data": {
      "text/plain": [
       "<sklearn.metrics._plot.confusion_matrix.ConfusionMatrixDisplay at 0x142ae584110>"
      ]
     },
     "execution_count": 19,
     "metadata": {},
     "output_type": "execute_result"
    },
    {
     "data": {
      "image/png": "[encoded data removed]",
      "text/plain": [
       "<Figure size 640x480 with 2 Axes>"
      ]
     },
     "metadata": {},
     "output_type": "display_data"
    }
   ],
   "source": [
    "# 5. Confussion Matrix\n",
    "\n",
    "import numpy as np\n",
    "import pandas as pd\n",
    "from sklearn.model_selection import train_test_split\n",
    "from sklearn.datasets import load_iris\n",
    "from sklearn.ensemble import RandomForestClassifier\n",
    "from sklearn.metrics import confusion_matrix, ConfusionMatrixDisplay\n",
    "\n",
    "# Memuat dataset Iris\n",
    "data = load_iris()\n",
    "X = data.data\n",
    "y = data.target\n",
    "\n",
    "# Membagi dataset menjadi data latih dan data uji\n",
    "X_train, X_test, y_train, y_test = train_test_split(X, y, test_size=0.2, random_state=42)\n",
    "\n",
    "# Membuat dan melatih model klasifikasi\n",
    "model = RandomForestClassifier(random_state=42)\n",
    "model.fit(X_train, y_train)\n",
    "\n",
    "# Melakukan prediksi pada data uji\n",
    "y_pred = model.predict(X_test)\n",
    "\n",
    "# Menghitung confusion matrix\n",
    "cm = confusion_matrix(y_test, y_pred)\n",
    "\n",
    "# Menampilkan confusion matrix\n",
    "print(\"Confusion Matrix:\")\n",
    "print(cm)\n",
    "\n",
    "# Menampilkan confusion matrix dengan visualisasi\n",
    "disp = ConfusionMatrixDisplay(confusion_matrix=cm, display_labels=data.target_names)\n",
    "disp.plot(cmap='Blues')"
   ]
  },
  {
   "cell_type": "code",
   "execution_count": 20,
   "metadata": {},
   "outputs": [
    {
     "name": "stdout",
     "output_type": "stream",
     "text": [
      "Mean: 13.7\n",
      "95% Confidence Interval: 11.4975 - 16.1025\n"
     ]
    }
   ],
   "source": [
    "# 6. Bootstrap sampling\n",
    "import numpy as np\n",
    "# Data\n",
    "data = np.array([10, 15, 8, 12, 14, 20, 18, 16, 11, 13])\n",
    "# Bootstrap sampling\n",
    "n_samples = 1000\n",
    "bootstrap_means = np.zeros(n_samples)\n",
    "for i in range(n_samples):\n",
    "    bootstrap_sample = np.random.choice(data, size=len(data), replace=True)\n",
    "    bootstrap_means[i] = np.mean(bootstrap_sample)\n",
    "# Confidence interval (95%)\n",
    "ci_lower = np.percentile(bootstrap_means, 2.5)\n",
    "ci_upper = np.percentile(bootstrap_means, 97.5)\n",
    "print(\"Mean:\", np.mean(data))\n",
    "print(\"95% Confidence Interval:\", ci_lower, \"-\", ci_upper)"
   ]
  },
  {
   "cell_type": "code",
   "execution_count": 25,
   "metadata": {},
   "outputs": [
    {
     "name": "stdout",
     "output_type": "stream",
     "text": [
      "Accuracy: 1.0\n",
      "Confusion Matrix:\n",
      " [[10  0  0]\n",
      " [ 0  9  0]\n",
      " [ 0  0 11]]\n"
     ]
    }
   ],
   "source": [
    "# 7. Evaluasi Kinerja Model\n",
    "# A\n",
    "from sklearn.model_selection import train_test_split\n",
    "from sklearn.metrics import accuracy_score, confusion_matrix\n",
    "from sklearn.datasets import load_iris\n",
    "from sklearn.linear_model import LogisticRegression\n",
    "\n",
    "# Load dataset\n",
    "iris = load_iris()\n",
    "X = iris.data\n",
    "y = iris.target\n",
    "\n",
    "# Bagi dataset menjadi data pelatihan dan data pengujian\n",
    "X_train, X_test, y_train, y_test = train_test_split(X, y, test_size=0.2,\n",
    "random_state=42)\n",
    "\n",
    "# Inisialisasi dan latih model\n",
    "model = LogisticRegression(max_iter=1000)\n",
    "model.fit(X_train, y_train)\n",
    "\n",
    "# Prediksi dengan data pengujian\n",
    "y_pred = model.predict(X_test)\n",
    "\n",
    "# Evaluasi kinerja model\n",
    "accuracy = accuracy_score(y_test, y_pred)\n",
    "conf_matrix = confusion_matrix(y_test, y_pred)\n",
    "print(\"Accuracy:\", accuracy)\n",
    "print(\"Confusion Matrix:\\n\", conf_matrix)"
   ]
  },
  {
   "cell_type": "code",
   "execution_count": null,
   "metadata": {},
   "outputs": [
    {
     "name": "stderr",
     "output_type": "stream",
     "text": [
      "[nltk_data] Downloading package movie_reviews to\n",
      "[nltk_data]     C:\\Users\\GF63-1039\\AppData\\Roaming\\nltk_data...\n",
      "[nltk_data]   Unzipping corpora\\movie_reviews.zip.\n"
     ]
    },
    {
     "name": "stdout",
     "output_type": "stream",
     "text": [
      "Confusion Matrix:\n",
      "[[170  29]\n",
      " [ 37 164]]\n",
      "\n",
      "Classification Report:\n",
      "              precision    recall  f1-score   support\n",
      "\n",
      "         neg       0.82      0.85      0.84       199\n",
      "         pos       0.85      0.82      0.83       201\n",
      "\n",
      "    accuracy                           0.83       400\n",
      "   macro avg       0.84      0.84      0.83       400\n",
      "weighted avg       0.84      0.83      0.83       400\n",
      "\n"
     ]
    },
    {
     "name": "stderr",
     "output_type": "stream",
     "text": [
      "c:\\Users\\GF63-1039\\anaconda3\\Lib\\site-packages\\sklearn\\svm\\_classes.py:32: FutureWarning: The default value of `dual` will change from `True` to `'auto'` in 1.5. Set the value of `dual` explicitly to suppress the warning.\n",
      "  warnings.warn(\n"
     ]
    }
   ],
   "source": [
    "# 7. Evaluasi Kinerja Model\n",
    "# B\n",
    "# Contoh Confussion Matrix di NLP\n",
    "# Impor library yang diperlukan\n",
    "import nltk\n",
    "from nltk.corpus import movie_reviews\n",
    "from sklearn.feature_extraction.text import TfidfVectorizer\n",
    "from sklearn.model_selection import train_test_split\n",
    "from sklearn.svm import LinearSVC\n",
    "from sklearn.metrics import confusion_matrix, classification_report\n",
    "# Unduh dataset sentimen ulasan film dari NLTK\n",
    "nltk.download('movie_reviews')\n",
    "# Ambil ulasan dan label dari dataset\n",
    "documents = [(list(movie_reviews.words(fileid)), category)\n",
    "for category in movie_reviews.categories()\n",
    "for fileid in movie_reviews.fileids(category)]\n",
    "# Pisahkan teks ulasan dan label\n",
    "texts = [' '.join(document) for document, category in documents]\n",
    "\n",
    "labels = [category for document, category in documents]\n",
    "# Ubah teks menjadi vektor fitur TF-IDF\n",
    "vectorizer = TfidfVectorizer(max_features=5000)\n",
    "X = vectorizer.fit_transform(texts)\n",
    "# Bagi dataset menjadi data pelatihan dan data pengujian\n",
    "X_train, X_test, y_train, y_test = train_test_split(X, labels, test_size=0.2,\n",
    "random_state=42)\n",
    "# Inisialisasi dan latih model klasifikasi (misalnya, Linear SVM)\n",
    "classifier = LinearSVC()\n",
    "classifier.fit(X_train, y_train)\n",
    "# Prediksi kelas pada data pengujian\n",
    "y_pred = classifier.predict(X_test)\n",
    "# Evaluasi model menggunakan confusion matrix\n",
    "conf_matrix = confusion_matrix(y_test, y_pred)\n",
    "print(\"Confusion Matrix:\")\n",
    "print(conf_matrix)\n",
    "# Evaluasi model menggunakan classification report\n",
    "report = classification_report(y_test, y_pred)\n",
    "print(\"\\nClassification Report:\")\n",
    "print(report)\n"
   ]
  }
 ],
 "metadata": {
  "kernelspec": {
   "display_name": "base",
   "language": "python",
   "name": "python3"
  },
  "language_info": {
   "codemirror_mode": {
    "name": "ipython",
    "version": 3
   },
   "file_extension": ".py",
   "mimetype": "text/x-python",
   "name": "python",
   "nbconvert_exporter": "python",
   "pygments_lexer": "ipython3",
   "version": "3.11.5"
  }
 },
 "nbformat": 4,
 "nbformat_minor": 2
}
